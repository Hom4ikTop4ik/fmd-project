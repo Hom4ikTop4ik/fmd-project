gey = Image.fromarray(ansshow)
            # pil_ima